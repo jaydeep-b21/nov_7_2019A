{
 "cells": [
  {
   "cell_type": "markdown",
   "metadata": {},
   "source": [
    "# (1) Reverse a string.\n",
    "\n",
    "# If the input is: Hello World.\n",
    "\n",
    "# The output should be: .dlroW olleH"
   ]
  },
  {
   "cell_type": "markdown",
   "metadata": {},
   "source": [
    "HINT: A string is almost like a list. A list of characters. You can access any element by index. You can run a for loop on it. You will get each character as an element. Besides, you can also add two string or join two characters"
   ]
  },
  {
   "cell_type": "raw",
   "metadata": {},
   "source": [
    "my_string = \"You are my Hero\"\n",
    " \n",
    "print('Access by index')\n",
    "print('-------------')\n",
    "print(my_string[0])\n",
    "print(my_string[1])\n",
    "print(my_string[4])\n",
    " \n",
    "print('Run a for loop')\n",
    "print('-------------')\n",
    "for char in my_string:\n",
    "    print(char)\n",
    "\n",
    "print('now join strings')\n",
    "print('-------------')\n",
    "print('hello' + 'world')\n",
    "print('h'+'w')"
   ]
  },
  {
   "cell_type": "code",
   "execution_count": 2,
   "metadata": {},
   "outputs": [
    {
     "name": "stdout",
     "output_type": "stream",
     "text": [
      "Enter your string: SUN SETS IN THE WEST\n",
      "TSEW EHT NI STES NUS\n"
     ]
    }
   ],
   "source": [
    "def reverse_string(str):\n",
    "    reverse = \"\"\n",
    "    for char in str:\n",
    "        reverse = char + reverse\n",
    "    return reverse\n",
    " \n",
    "str = input(\"Enter your string: \")\n",
    "result = reverse_string(str)\n",
    "print(result)"
   ]
  },
  {
   "cell_type": "markdown",
   "metadata": {},
   "source": [
    "# (2) Reverse a string using a stack."
   ]
  },
  {
   "cell_type": "markdown",
   "metadata": {},
   "source": [
    "HINT: This is a little fancier way to reverse the string. However, this will help you understand one concept called stack.\n",
    "\n",
    "If you are not familiar with the stack. Don’t worry. We have it covered in the Data Structure galaxy.\n",
    "\n",
    "For now, just remember, you have to use .pop() method to get the last element of the list."
   ]
  },
  {
   "cell_type": "code",
   "execution_count": 10,
   "metadata": {},
   "outputs": [
    {
     "name": "stdout",
     "output_type": "stream",
     "text": [
      "What is your string:SUN SETS IN THE WEST\n",
      "Reversed is:  TSEW EHT NI STES NUS\n"
     ]
    }
   ],
   "source": [
    "def reverse_stack(str):\n",
    "      # Create an empty stack (list to use as stack)\n",
    "    stack = []\n",
    "    # Push all characters of string to stack\n",
    "    for char in str:\n",
    "        stack.append(char)\n",
    "  # Pop all characters of string\n",
    "  # and add it to the rev\n",
    "    rev = ''\n",
    "    while len(stack) > 0:\n",
    "        last = stack.pop()\n",
    "        rev = rev + last\n",
    "       # print(last, rev)\n",
    "    return rev\n",
    "usr_str = input('What is your string:')\n",
    "reverse = reverse_stack(usr_str)\n",
    "print('Reversed is: ', reverse)"
   ]
  },
  {
   "cell_type": "markdown",
   "metadata": {},
   "source": [
    "# (3) Reverse a string using a recursive function."
   ]
  },
  {
   "cell_type": "markdown",
   "metadata": {},
   "source": [
    "You already know the recursive function. So, it would be easier.\n",
    "\n",
    "Also, let’s talk a little bit about the range selector (also known as slicing).\n",
    "\n",
    "For example, you want to select a range of elements. You can define a range by using colon inside the third bracket."
   ]
  },
  {
   "cell_type": "code",
   "execution_count": 11,
   "metadata": {},
   "outputs": [
    {
     "name": "stdout",
     "output_type": "stream",
     "text": [
      "Enter your string: SUN SETS IN THE WEST\n",
      "Reverse of your string:  TSEW EHT NI STES NUS\n"
     ]
    }
   ],
   "source": [
    "def reverse_recur(str):\n",
    "    if len(str) == 0:\n",
    "        return str\n",
    "    else:\n",
    "        return reverse_recur(str[1:]) + str[0]\n",
    "str = input(\"Enter your string: \")\n",
    "rev_str = reverse_recur(str)\n",
    "print ('Reverse of your string: ', rev_str)"
   ]
  },
  {
   "cell_type": "markdown",
   "metadata": {},
   "source": [
    "SMART SOLUTION"
   ]
  },
  {
   "cell_type": "code",
   "execution_count": 12,
   "metadata": {},
   "outputs": [
    {
     "name": "stdout",
     "output_type": "stream",
     "text": [
      "TSEW EHT NI STES NUS\n"
     ]
    }
   ],
   "source": [
    "txt = \"SUN SETS IN THE WEST\"\n",
    "print(txt[::-1])"
   ]
  },
  {
   "cell_type": "markdown",
   "metadata": {},
   "source": [
    "# (4) Reverse a number."
   ]
  },
  {
   "cell_type": "markdown",
   "metadata": {},
   "source": [
    "HINT: You have to think differently to reverse a number.\n",
    "\n",
    "Let’s say you have the number 123.\n",
    "\n",
    "123 = 1 * 100 + 2 * 10 + 3\n",
    "\n",
    "First, you have to take the last digit of the number. You have done this many times. Just divide the number by 10 and get the remainder.\n",
    "\n",
    "Once you have the last digit. Add it to a variable named reverse.\n",
    "\n",
    "And get rid of the last digit by performing a floor division by 10. Then your 123//10 will make the remaining number 12.\n",
    "\n",
    "In the next step, get the last digit of the remaining number (12) which will be 2. Multiply the reverse number by 10 and then add the new last digit. That's why your new reverse number will become 30+2. This will be 32.\n",
    "\n",
    "Once again perform a division on the remaining number. 12//10 will make it 1.\n",
    "\n",
    "In the last step, multiply the reverse number by 10. It will become 320 and add the remainder 1. The total number will become 320 + 1 = 321.\n",
    "\n",
    "This is the overall process to reverse a number."
   ]
  },
  {
   "cell_type": "code",
   "execution_count": 13,
   "metadata": {},
   "outputs": [
    {
     "name": "stdout",
     "output_type": "stream",
     "text": [
      "Enter number: 5193\n",
      "Reverse of the number: 3915\n"
     ]
    }
   ],
   "source": [
    "def reverse_num(num):\n",
    "    reverse = 0\n",
    "    while(num>0):\n",
    "        last_digit = num%10\n",
    "        reverse = reverse*10 + last_digit\n",
    "        num = num//10\n",
    "    return reverse\n",
    " \n",
    "n=int(input(\"Enter number: \"))\n",
    "reverse = reverse_num(n)\n",
    "print(\"Reverse of the number:\",reverse)"
   ]
  },
  {
   "cell_type": "markdown",
   "metadata": {},
   "source": [
    "# (5) Reverse the word in a sentence. For example, if the input string is “Hello young Programmer”, the output will be “Programmer young Hello”"
   ]
  },
  {
   "cell_type": "markdown",
   "metadata": {},
   "source": [
    "HINT: There are two methods that you can call on a string. One is called split(). If you don’t pass any parameter to this function, it will split the string by whitespace.\n",
    "\n",
    "The opposite of split is join. You can write what you want to join string by. And then pass the array to it.\n"
   ]
  },
  {
   "cell_type": "code",
   "execution_count": 14,
   "metadata": {},
   "outputs": [
    {
     "name": "stdout",
     "output_type": "stream",
     "text": [
      "Enter a sentence: SUN SETS IN THE WEST\n",
      "Reversed words are:  WEST THE IN SETS SUN\n"
     ]
    }
   ],
   "source": [
    "def reverse_words(sentence):\n",
    "    words = sentence.split()\n",
    "    words.reverse()\n",
    "    return \" \".join(words)\n",
    " \n",
    "usr_input = input(\"Enter a sentence: \")\n",
    "reverse = reverse_words(usr_input)\n",
    "print('Reversed words are: ', reverse)"
   ]
  },
  {
   "cell_type": "markdown",
   "metadata": {},
   "source": [
    "# (6) Reverse domain . Let’s say, you have the website name www.programming-hero.com   Now you want to reverse the domain name: com.programming-hero.www"
   ]
  },
  {
   "cell_type": "code",
   "execution_count": 15,
   "metadata": {},
   "outputs": [
    {
     "name": "stdout",
     "output_type": "stream",
     "text": [
      "com.programming-hero.www\n"
     ]
    }
   ],
   "source": [
    "site='www.programming-hero.com'\n",
    "parts = site.split('.')\n",
    "parts.reverse()\n",
    "rev =  '.'.join(parts)\n",
    "print(rev)"
   ]
  },
  {
   "cell_type": "markdown",
   "metadata": {},
   "source": [
    "SHORTCUT"
   ]
  },
  {
   "cell_type": "code",
   "execution_count": 17,
   "metadata": {},
   "outputs": [
    {
     "name": "stdout",
     "output_type": "stream",
     "text": [
      "com.programming-hero.www\n"
     ]
    }
   ],
   "source": [
    "site='www.programming-hero.com'\n",
    "rev = '.'.join(reversed(site.split('.')))\n",
    "print(rev)"
   ]
  },
  {
   "cell_type": "code",
   "execution_count": null,
   "metadata": {},
   "outputs": [],
   "source": []
  }
 ],
 "metadata": {
  "kernelspec": {
   "display_name": "Python 3",
   "language": "python",
   "name": "python3"
  },
  "language_info": {
   "codemirror_mode": {
    "name": "ipython",
    "version": 3
   },
   "file_extension": ".py",
   "mimetype": "text/x-python",
   "name": "python",
   "nbconvert_exporter": "python",
   "pygments_lexer": "ipython3",
   "version": "3.7.3"
  }
 },
 "nbformat": 4,
 "nbformat_minor": 2
}
